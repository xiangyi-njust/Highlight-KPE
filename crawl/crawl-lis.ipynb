{
 "cells": [
  {
   "cell_type": "markdown",
   "metadata": {},
   "source": [
    "#### 获取待下载论文的网页链接"
   ]
  },
  {
   "cell_type": "code",
   "execution_count": 6,
   "metadata": {},
   "outputs": [],
   "source": [
    "# 先获取对应期刊论文的网页链接\n",
    "\n",
    "# 1. 自己找的\n",
    "journals = ['INTERNATIONAL JOURNAL OF INFORMATION MANAGEMENT',\n",
    "            'GOVERNMENT INFORMATION QUARTERLY',\n",
    "            'INFORMATION PROCESSING & MANAGEMENT',\n",
    "            'TELEMATICS AND INFORMATICS',\n",
    "            'INFORMATION & MANAGEMENT',\n",
    "            'Journal of Informetrics',\n",
    "            'Information and Organization',\n",
    "            'JOURNAL OF STRATEGIC INFORMATION SYSTEMS',\n",
    "            'JOURNAL OF THE AMERICAN MEDICAL INFORMATICS ASSOCIATION',\n",
    "            'TELECOMMUNICATIONS POLICY',\n",
    "            'LIBRARY & INFORMATION SCIENCE RESEARCH']\n",
    "\n",
    "# 2. JIS论文所提供列表  参考JCR分区: https://jcr.clarivate.com/jcr/browse-category-list\n",
    "journals = ['Government Information Quarterly',\n",
    "            'Information & Management',\n",
    "            'Information and Organization',\n",
    "            'International Journal of Information Management',\n",
    "            'Library & Information Science Research',\n",
    "            'Telematics and Informatics',\n",
    "            'The Journal of Academic Librarianship']\n",
    "\n",
    "# journals = [journal.replace(' ','-') for journal in journals]"
   ]
  },
  {
   "cell_type": "code",
   "execution_count": 6,
   "metadata": {},
   "outputs": [],
   "source": [
    "# 测试requests put方法作用\n",
    "import requests\n",
    "import json\n",
    "\n",
    "url = 'https://api.elsevier.com/content/search/sciencedirect'\n",
    "\n",
    "headers = {\n",
    "    \"X-ELS-APIKEY\": '5245a5ea0be97233a73906d8b805c460',\n",
    "    \"X-ELS-Insttoken\": '808e542de03a7a118f187de5081d8521'\n",
    "}\n",
    "\n",
    "data = {\n",
    "    'title':\"\\\"Predicting the evolution of scientific communities by interpretable machine learning approaches\\\"\",\n",
    "    'pub':\"\\\"Journal of Informetrics\\\"\",\n",
    "}\n",
    "\n",
    "response = requests.put(url, data=json.dumps(data), headers=headers)\n",
    "\n",
    "if response.status_code != 200:\n",
    "    print(response.json())"
   ]
  },
  {
   "cell_type": "markdown",
   "metadata": {},
   "source": [
    "##### 单个期刊上的处理"
   ]
  },
  {
   "cell_type": "code",
   "execution_count": null,
   "metadata": {},
   "outputs": [],
   "source": [
    "# 根据论文标题检索对应的pii号\n",
    "\"\"\"\n",
    "此处其实有两种处理方式：\n",
    "\n",
    "    1. 先获取所有论文对应的pii，然后只爬取符合要求的内容\n",
    "    2. 先过滤符合要求的文章，然后获取对应pii\n",
    "\n",
    "    后者更适用一点，因为前者会导致大量的pii号无用，浪费资源。\n",
    "\"\"\"\n",
    "import pandas as pd\n",
    "from tqdm import tqdm\n",
    "\n",
    "data_path = '../data/Elsevier-LIS/JOI/JOI.xlsx'\n",
    "df = pd.read_excel(data_path)\n",
    "titles = df['Title'].tolist()\n",
    "piis = []"
   ]
  },
  {
   "cell_type": "code",
   "execution_count": 24,
   "metadata": {},
   "outputs": [
    {
     "name": "stderr",
     "output_type": "stream",
     "text": [
      "100%|██████████| 145/145 [02:34<00:00,  1.06s/it]\n"
     ]
    }
   ],
   "source": [
    "# 第一种处理方式\n",
    "offset = len(piis)\n",
    "\n",
    "for title in tqdm(titles[len(piis):]):\n",
    "    data = {\n",
    "        'title':title,\n",
    "        'pub':\"\\\"Journal of Informetrics\\\"\",   \n",
    "    }\n",
    "\n",
    "    response = requests.put(url, data=json.dumps(data), headers=headers)\n",
    "    if response.status_code != 200:\n",
    "        piis.append('error')\n",
    "    elif response.json()['resultsFound'] == 0:\n",
    "        piis.append('not found')\n",
    "    else:\n",
    "        piis.append(response.json()['results'][0]['pii'])\n",
    "\n",
    "with open('joi-paper-links.txt', 'w') as f:\n",
    "    for pii in piis:\n",
    "        f.write(pii)\n",
    "        f.write('\\n')"
   ]
  },
  {
   "cell_type": "code",
   "execution_count": 10,
   "metadata": {},
   "outputs": [
    {
     "name": "stdout",
     "output_type": "stream",
     "text": [
      "1146\n",
      "1115\n",
      "1113\n"
     ]
    },
    {
     "data": {
      "text/html": [
       "<div>\n",
       "<style scoped>\n",
       "    .dataframe tbody tr th:only-of-type {\n",
       "        vertical-align: middle;\n",
       "    }\n",
       "\n",
       "    .dataframe tbody tr th {\n",
       "        vertical-align: top;\n",
       "    }\n",
       "\n",
       "    .dataframe thead th {\n",
       "        text-align: right;\n",
       "    }\n",
       "</style>\n",
       "<table border=\"1\" class=\"dataframe\">\n",
       "  <thead>\n",
       "    <tr style=\"text-align: right;\">\n",
       "      <th></th>\n",
       "      <th>Title</th>\n",
       "      <th>Year</th>\n",
       "      <th>Abstract</th>\n",
       "      <th>Author Keywords</th>\n",
       "    </tr>\n",
       "  </thead>\n",
       "  <tbody>\n",
       "    <tr>\n",
       "      <th>0</th>\n",
       "      <td>Exploring the relations of subjective and obje...</td>\n",
       "      <td>2023</td>\n",
       "      <td>We collected objective digital trace Instagram...</td>\n",
       "      <td>Instagram; Mental health; Objective measuremen...</td>\n",
       "    </tr>\n",
       "    <tr>\n",
       "      <th>1</th>\n",
       "      <td>I'll follow the fun: The extended investment m...</td>\n",
       "      <td>2022</td>\n",
       "      <td>Applying the Investment Model to the social me...</td>\n",
       "      <td>Content expertise of influencer; Influencer pl...</td>\n",
       "    </tr>\n",
       "    <tr>\n",
       "      <th>2</th>\n",
       "      <td>Social support for digital inclusion of women ...</td>\n",
       "      <td>2022</td>\n",
       "      <td>Despite strong evidence of its critical role i...</td>\n",
       "      <td>Digital inclusion; ICT; Social support; South ...</td>\n",
       "    </tr>\n",
       "    <tr>\n",
       "      <th>3</th>\n",
       "      <td>Emoji and visual complexity in health informat...</td>\n",
       "      <td>2023</td>\n",
       "      <td>Social media is a valuable tool that enables p...</td>\n",
       "      <td>Emoji; Health communication; Perceived enjoyme...</td>\n",
       "    </tr>\n",
       "    <tr>\n",
       "      <th>4</th>\n",
       "      <td>Who (and with whom) uses more emoji? Exploring...</td>\n",
       "      <td>2023</td>\n",
       "      <td>Emoji use, despite being pervasive in digital ...</td>\n",
       "      <td>Computer-mediated communication; Context; Emoj...</td>\n",
       "    </tr>\n",
       "  </tbody>\n",
       "</table>\n",
       "</div>"
      ],
      "text/plain": [
       "                                               Title  Year  \\\n",
       "0  Exploring the relations of subjective and obje...  2023   \n",
       "1  I'll follow the fun: The extended investment m...  2022   \n",
       "2  Social support for digital inclusion of women ...  2022   \n",
       "3  Emoji and visual complexity in health informat...  2023   \n",
       "4  Who (and with whom) uses more emoji? Exploring...  2023   \n",
       "\n",
       "                                            Abstract  \\\n",
       "0  We collected objective digital trace Instagram...   \n",
       "1  Applying the Investment Model to the social me...   \n",
       "2  Despite strong evidence of its critical role i...   \n",
       "3  Social media is a valuable tool that enables p...   \n",
       "4  Emoji use, despite being pervasive in digital ...   \n",
       "\n",
       "                                     Author Keywords  \n",
       "0  Instagram; Mental health; Objective measuremen...  \n",
       "1  Content expertise of influencer; Influencer pl...  \n",
       "2  Digital inclusion; ICT; Social support; South ...  \n",
       "3  Emoji; Health communication; Perceived enjoyme...  \n",
       "4  Computer-mediated communication; Context; Emoj...  "
      ]
     },
     "execution_count": 10,
     "metadata": {},
     "output_type": "execute_result"
    }
   ],
   "source": [
    "# 将下载后的pii复制到原始文件当中\n",
    "import pandas as pd\n",
    "\n",
    "# df = pd.read_excel('../data/Elsevier-LIS/JOI/JOI.xlsx')\n",
    "# df = pd.read_csv('../data/Elsevier-LIS/LISR/LISR.csv')\n",
    "# df = pd.read_csv('../data/Elsevier-LIS/IM/IM.csv')\n",
    "# df = pd.read_csv('../data/Elsevier-LIS/IJIM/IJIM.csv')\n",
    "df = pd.read_csv('../data/Elsevier-LIS/TI/TI.csv')\n",
    "\n",
    "# 第一种处理方式 即先爬取到Pii\n",
    "# columns = ['Title', 'Year', 'Abstract', 'Author Keywords','Pii']\n",
    "# 第二种处理方式 先过滤\n",
    "columns = ['Title', 'Year', 'Abstract', 'Author Keywords']\n",
    "df = df[columns]\n",
    "print(len(df))\n",
    "df = df.dropna()\n",
    "print(len(df))\n",
    "df = df[df['Abstract'] != '[No abstract available]']\n",
    "print(len(df))\n",
    "df.head()"
   ]
  },
  {
   "cell_type": "code",
   "execution_count": 11,
   "metadata": {},
   "outputs": [
    {
     "name": "stdout",
     "output_type": "stream",
     "text": [
      "986\n",
      "0.8858939802336029\n",
      "986\n",
      "[\"Exploring the relations of subjective and objective Instagram use on young adults' mental health\", \"I'll follow the fun: The extended investment model of social media influencers\", 'Social support for digital inclusion of women in South African townships', 'Emoji and visual complexity in health information design: A moderated serial mediation model', 'Who (and with whom) uses more emoji? Exploring individual, relational, and motivational characteristics driving emoji use']\n"
     ]
    }
   ],
   "source": [
    "# 保留关键词长度在一定范围内的论文集合\n",
    "keywords = df['Author Keywords'].tolist()\n",
    "keyword_lengths = [len(keyword.split(';')) for keyword in keywords]\n",
    "\n",
    "min = 3\n",
    "max = 6\n",
    "cnt = 0\n",
    "for length in keyword_lengths:\n",
    "    if length >= min and length <=max:\n",
    "        cnt += 1\n",
    "\n",
    "print(cnt)\n",
    "print(cnt/len(keyword_lengths))\n",
    "\n",
    "# 获取对应长度关键词集合的论文标题\n",
    "titles = df['Title'].tolist()\n",
    "sub_titles = []\n",
    "\n",
    "for i, title in enumerate(titles):\n",
    "    if keyword_lengths[i] >= min and keyword_lengths[i] <=max:\n",
    "        sub_titles.append(title)\n",
    "print(len(sub_titles))\n",
    "print(sub_titles[:5])"
   ]
  },
  {
   "cell_type": "code",
   "execution_count": 12,
   "metadata": {},
   "outputs": [],
   "source": [
    "df = df[df['Title'].isin(sub_titles)]\n",
    "df.to_excel('../data/Elsevier-LIS/TI/TI_filter.xlsx', index=False)"
   ]
  },
  {
   "cell_type": "code",
   "execution_count": 13,
   "metadata": {},
   "outputs": [],
   "source": [
    "df = pd.read_excel('../data/Elsevier-LIS/TI/TI_filter.xlsx')\n",
    "titles = df['Title'].tolist()\n",
    "piis = []"
   ]
  },
  {
   "cell_type": "code",
   "execution_count": 14,
   "metadata": {},
   "outputs": [
    {
     "name": "stderr",
     "output_type": "stream",
     "text": [
      "100%|██████████| 986/986 [13:50<00:00,  1.19it/s]\n"
     ]
    }
   ],
   "source": [
    "# 补充Pii\n",
    "# 第二种处理方式\n",
    "from tqdm import tqdm\n",
    "\n",
    "offset = len(piis)\n",
    "\n",
    "for title in tqdm(titles[offset:]):\n",
    "    data = {\n",
    "        'title':title,\n",
    "        # 'pub':\"\\\"Journal of Informetrics\\\"\",   \n",
    "    }\n",
    "\n",
    "    response = requests.put(url, data=json.dumps(data), headers=headers)\n",
    "    if response.status_code != 200:\n",
    "        piis.append('error')\n",
    "    elif response.json()['resultsFound'] == 0:\n",
    "        piis.append('not found')\n",
    "    else:\n",
    "        piis.append(response.json()['results'][0]['pii'])"
   ]
  },
  {
   "cell_type": "code",
   "execution_count": 15,
   "metadata": {},
   "outputs": [
    {
     "name": "stdout",
     "output_type": "stream",
     "text": [
      "983\n"
     ]
    }
   ],
   "source": [
    "prefix_url = 'https://www.sciencedirect.com/science/article/pii/'\n",
    "df['Pii'] = piis\n",
    "df = df[df['Pii'] != 'not found']\n",
    "print(len(df))"
   ]
  },
  {
   "cell_type": "code",
   "execution_count": 16,
   "metadata": {},
   "outputs": [],
   "source": [
    "df['Pii'] = [prefix_url + pii for pii in df['Pii'].tolist()]\n",
    "df.to_excel('../data/Elsevier-LIS/TI/TI_filter.xlsx', index=False)"
   ]
  },
  {
   "cell_type": "markdown",
   "metadata": {},
   "source": [
    "##### 合并数据上的处理"
   ]
  },
  {
   "cell_type": "code",
   "execution_count": 32,
   "metadata": {},
   "outputs": [
    {
     "data": {
      "text/html": [
       "<div>\n",
       "<style scoped>\n",
       "    .dataframe tbody tr th:only-of-type {\n",
       "        vertical-align: middle;\n",
       "    }\n",
       "\n",
       "    .dataframe tbody tr th {\n",
       "        vertical-align: top;\n",
       "    }\n",
       "\n",
       "    .dataframe thead th {\n",
       "        text-align: right;\n",
       "    }\n",
       "</style>\n",
       "<table border=\"1\" class=\"dataframe\">\n",
       "  <thead>\n",
       "    <tr style=\"text-align: right;\">\n",
       "      <th></th>\n",
       "      <th>Title</th>\n",
       "      <th>Year</th>\n",
       "      <th>Abstract</th>\n",
       "      <th>Author Keywords</th>\n",
       "      <th>Source title</th>\n",
       "    </tr>\n",
       "  </thead>\n",
       "  <tbody>\n",
       "    <tr>\n",
       "      <th>0</th>\n",
       "      <td>Organizational resilience and digital resource...</td>\n",
       "      <td>2023</td>\n",
       "      <td>Recent events have renewed attention to how or...</td>\n",
       "      <td>COVID-19; Digital resources; Exogenous shock; ...</td>\n",
       "      <td>International Journal of Information Management</td>\n",
       "    </tr>\n",
       "    <tr>\n",
       "      <th>1</th>\n",
       "      <td>A new perspective of BDA and information quali...</td>\n",
       "      <td>2023</td>\n",
       "      <td>Although organizational factors related to big...</td>\n",
       "      <td>Balanced scorecard; Big data analytics; Inform...</td>\n",
       "      <td>International Journal of Information Management</td>\n",
       "    </tr>\n",
       "    <tr>\n",
       "      <th>2</th>\n",
       "      <td>Social media platforms and social enterprise: ...</td>\n",
       "      <td>2023</td>\n",
       "      <td>A considerable number of contributions at the ...</td>\n",
       "      <td>Bibliometric analysis; Literature review; Soci...</td>\n",
       "      <td>International Journal of Information Management</td>\n",
       "    </tr>\n",
       "    <tr>\n",
       "      <th>3</th>\n",
       "      <td>How social media live streams affect online bu...</td>\n",
       "      <td>2023</td>\n",
       "      <td>Social media live streams (SMLSs) are becoming...</td>\n",
       "      <td>E-commerce; Live stream; Social media; Social ...</td>\n",
       "      <td>International Journal of Information Management</td>\n",
       "    </tr>\n",
       "    <tr>\n",
       "      <th>4</th>\n",
       "      <td>The effects of trust on behavioral intention a...</td>\n",
       "      <td>2022</td>\n",
       "      <td>As electronic transactions between governments...</td>\n",
       "      <td>Behavioral intention; E-government; E-governme...</td>\n",
       "      <td>International Journal of Information Management</td>\n",
       "    </tr>\n",
       "  </tbody>\n",
       "</table>\n",
       "</div>"
      ],
      "text/plain": [
       "                                               Title  Year  \\\n",
       "0  Organizational resilience and digital resource...  2023   \n",
       "1  A new perspective of BDA and information quali...  2023   \n",
       "2  Social media platforms and social enterprise: ...  2023   \n",
       "3  How social media live streams affect online bu...  2023   \n",
       "4  The effects of trust on behavioral intention a...  2022   \n",
       "\n",
       "                                            Abstract  \\\n",
       "0  Recent events have renewed attention to how or...   \n",
       "1  Although organizational factors related to big...   \n",
       "2  A considerable number of contributions at the ...   \n",
       "3  Social media live streams (SMLSs) are becoming...   \n",
       "4  As electronic transactions between governments...   \n",
       "\n",
       "                                     Author Keywords  \\\n",
       "0  COVID-19; Digital resources; Exogenous shock; ...   \n",
       "1  Balanced scorecard; Big data analytics; Inform...   \n",
       "2  Bibliometric analysis; Literature review; Soci...   \n",
       "3  E-commerce; Live stream; Social media; Social ...   \n",
       "4  Behavioral intention; E-government; E-governme...   \n",
       "\n",
       "                                      Source title  \n",
       "0  International Journal of Information Management  \n",
       "1  International Journal of Information Management  \n",
       "2  International Journal of Information Management  \n",
       "3  International Journal of Information Management  \n",
       "4  International Journal of Information Management  "
      ]
     },
     "execution_count": 32,
     "metadata": {},
     "output_type": "execute_result"
    }
   ],
   "source": [
    "# 合并所有数据\n",
    "import os\n",
    "\n",
    "df_IJIM = pd.read_csv('../data/Elsevier-LIS/csv/scopus-ijim.csv')\n",
    "df_IPM = pd.read_csv('../data/Elsevier-LIS/csv/scopus-IPM.csv')\n",
    "df_GIQ = pd.read_csv('../data/Elsevier-LIS/csv/scopus-GIQ.csv')\n",
    "df_IO = pd.read_csv('../data/Elsevier-LIS/csv/scopus-IO.csv')\n",
    "df_TP = pd.read_csv('../data/Elsevier-LIS/csv/scopus-TP.csv')\n",
    "df_list = [df_IJIM, df_IPM, df_GIQ, df_IO, df_TP]\n",
    "\n",
    "columns = ['Title', 'Year', 'Abstract', 'Author Keywords', \"Source title\"]\n",
    "df_list = [df[columns] for df in df_list]\n",
    "df_list[0].head()"
   ]
  },
  {
   "cell_type": "code",
   "execution_count": 33,
   "metadata": {},
   "outputs": [],
   "source": [
    "df = pd.concat(df_list, ignore_index=True)\n",
    "df.to_excel('../data/Elsevier-LIS/excel/all_data.xlsx', index=False)"
   ]
  },
  {
   "cell_type": "code",
   "execution_count": null,
   "metadata": {},
   "outputs": [],
   "source": [
    "# 过滤掉没有摘要或没有关键词的数据，并统计关键词数量，减少highlight爬取的数据量\n",
    "df = pd.read_excel('../data/Elsevier-LIS/excel/all_data.xlsx', sheet_name='2012-2023')\n",
    "print(len(df))\n",
    "df = df.dropna()\n",
    "print(len(df))\n",
    "df = df[df['Abstract'] != '[No abstract available]']\n",
    "print(len(df))\n",
    "df.to_excel('../data/Elsevier-LIS/excel/expe_data.xlsx', index=False)"
   ]
  },
  {
   "cell_type": "code",
   "execution_count": 2,
   "metadata": {},
   "outputs": [
    {
     "name": "stdout",
     "output_type": "stream",
     "text": [
      "2989\n",
      "0.33770195458140323\n",
      "2989\n",
      "['The effects of trust on behavioral intention and use behavior within e-government contexts', 'Cross-sectional research: A critical perspective, use cases, and recommendations for IS research', 'Digital platforms and transformational entrepreneurship during the COVID-19 crisis', 'Examining the relationship between sociomaterial practices enacted in the organizational use of social media and the emerging role of organizational generativity', 'Pathways to developing information technology-enabled capabilities in born-digital new ventures']\n"
     ]
    }
   ],
   "source": [
    "# 统计论文关键词长度占比\n",
    "import pandas as pd\n",
    "df = pd.read_excel('../data/Elsevier-LIS/excel/expe_data.xlsx')\n",
    "keywords = df['Author Keywords'].tolist()\n",
    "keyword_lengths = [len(keyword.split(';')) for keyword in keywords]\n",
    "\n",
    "min = 6\n",
    "cnt = 0\n",
    "for length in keyword_lengths:\n",
    "    if length >= min:\n",
    "        cnt += 1\n",
    "\n",
    "print(cnt)\n",
    "print(cnt/len(keyword_lengths))\n",
    "\n",
    "# 获取对应长度关键词集合的论文标题\n",
    "titles = df['Title'].tolist()\n",
    "journals = df['Source title'].tolist()\n",
    "\n",
    "sub_titles = []\n",
    "piis = []\n",
    "\n",
    "for i, title in enumerate(titles):\n",
    "    if keyword_lengths[i] >= min:\n",
    "        sub_titles.append(title)\n",
    "print(len(sub_titles))\n",
    "print(sub_titles[:5])"
   ]
  },
  {
   "cell_type": "code",
   "execution_count": 10,
   "metadata": {},
   "outputs": [
    {
     "name": "stderr",
     "output_type": "stream",
     "text": [
      "100%|██████████| 912/912 [16:41<00:00,  1.10s/it]\n"
     ]
    }
   ],
   "source": [
    "from tqdm import tqdm\n",
    "import requests\n",
    "\n",
    "for i, title in enumerate(tqdm(sub_titles[len(piis):])):\n",
    "    data = {\n",
    "        'title':\"\\\"\" + title + \"\\\"\",\n",
    "        # 'pub':\"\\\"\"+journals[i]+\"\\\"\",   \n",
    "    }\n",
    "\n",
    "    response = requests.put(url, data=json.dumps(data), headers=headers)\n",
    "    if response.status_code != 200:\n",
    "        piis.append('error')\n",
    "    elif response.json()['resultsFound'] == 0:\n",
    "        piis.append('not found')\n",
    "    else:\n",
    "        piis.append(response.json()['results'][0]['pii'])"
   ]
  },
  {
   "cell_type": "code",
   "execution_count": 16,
   "metadata": {},
   "outputs": [
    {
     "name": "stdout",
     "output_type": "stream",
     "text": [
      "2989\n"
     ]
    }
   ],
   "source": [
    "print(len(piis))\n",
    "prefix_url = 'https://www.sciencedirect.com/science/article/pii/'\n",
    "new_piis = [prefix_url + pii for pii in piis]\n",
    "\n",
    "df = df[df['Title'].isin(sub_titles)]\n",
    "df['Pii'] = new_piis\n",
    "df.to_excel('../data/Elsevier-LIS/excel/expe_data(Other).xlsx', index=False)"
   ]
  },
  {
   "cell_type": "code",
   "execution_count": null,
   "metadata": {},
   "outputs": [],
   "source": [
    "import pandas as pd\n",
    "\n",
    "df = pd.read_excel('../data/Elsevier-LIS/excel/expe_data(Other).xlsx')\n",
    "piis = df['Pii'].tolist()\n",
    "\n",
    "error_nums = 0\n",
    "not_founds = 0\n",
    "for pii in piis:\n",
    "    if 'error' in pii:\n",
    "        error_nums += 1\n",
    "    elif 'not found' in pii:\n",
    "        not_founds += 1\n",
    "\n",
    "print(error_nums)\n",
    "print(not_founds)"
   ]
  },
  {
   "cell_type": "markdown",
   "metadata": {},
   "source": [
    "##### 利用采集器"
   ]
  },
  {
   "cell_type": "code",
   "execution_count": 48,
   "metadata": {},
   "outputs": [
    {
     "name": "stdout",
     "output_type": "stream",
     "text": [
      "983\n",
      "983\n",
      "983\n"
     ]
    }
   ],
   "source": [
    "\"\"\"\n",
    "使用采集器爬取后，对数据进行处理\n",
    "\n",
    "    1. 将原始数据和爬取数据通过Pii号链接起来\n",
    "        爬取过程中得到的pii号和原始的有不对应的情况，要把爬取的pii号中的abs子串给替换掉\n",
    "    2. 去除highlight为空的数据\n",
    "    3. highlight、keyword要进一步处理，目前是混在一起的\n",
    "\"\"\"\n",
    "import pandas as pd\n",
    "\n",
    "df_crawl = pd.read_excel('../data/Elsevier-LIS/TI/TI_highlight.xlsx')\n",
    "df_meta = pd.read_excel('../data/Elsevier-LIS/TI/TI_filter.xlsx')\n",
    "\n",
    "piis_crawl = df_crawl['Pii'].tolist()\n",
    "piis_crawl = [pii.replace('abs/', '') for pii in piis_crawl]\n",
    "df_crawl['Pii'] = piis_crawl\n",
    "\n",
    "df = pd.DataFrame()\n",
    "df = pd.merge(df_meta, df_crawl, on='Pii')\n",
    "\n",
    "print(len(df_crawl))\n",
    "print(len(df_meta))\n",
    "print(len(df))"
   ]
  },
  {
   "cell_type": "code",
   "execution_count": 49,
   "metadata": {},
   "outputs": [
    {
     "name": "stdout",
     "output_type": "stream",
     "text": [
      "876\n",
      "876\n",
      "0\n"
     ]
    }
   ],
   "source": [
    "df = df.dropna()\n",
    "print(len(df))\n",
    "df = df.drop_duplicates()\n",
    "print(len(df))\n",
    "\n",
    "highlights = df['Highlights'].tolist()\n",
    "empty_nums = 0\n",
    "for text in highlights:\n",
    "    if type(text) == float:\n",
    "        empty_nums += 1\n",
    "\n",
    "print(empty_nums)"
   ]
  },
  {
   "cell_type": "code",
   "execution_count": 50,
   "metadata": {},
   "outputs": [],
   "source": [
    "new_highlights = []\n",
    "for highlight in highlights:\n",
    "    new_highlight = highlight.replace('highlights', '')\n",
    "    items = new_highlight.split(\"•\")[1:]\n",
    "    highlight = ';'.join(items)\n",
    "    new_highlights.append(highlight)\n",
    "\n",
    "df['Highlights'] = new_highlights\n",
    "df.to_excel('../data/Elsevier-LIS/TI/TI_expe.xlsx', index=False)"
   ]
  },
  {
   "cell_type": "code",
   "execution_count": 1,
   "metadata": {},
   "outputs": [
    {
     "name": "stdout",
     "output_type": "stream",
     "text": [
      "881\n",
      "1675\n",
      "1768\n",
      "2644\n",
      "2640\n"
     ]
    },
    {
     "data": {
      "text/html": [
       "<div>\n",
       "<style scoped>\n",
       "    .dataframe tbody tr th:only-of-type {\n",
       "        vertical-align: middle;\n",
       "    }\n",
       "\n",
       "    .dataframe tbody tr th {\n",
       "        vertical-align: top;\n",
       "    }\n",
       "\n",
       "    .dataframe thead th {\n",
       "        text-align: right;\n",
       "    }\n",
       "</style>\n",
       "<table border=\"1\" class=\"dataframe\">\n",
       "  <thead>\n",
       "    <tr style=\"text-align: right;\">\n",
       "      <th></th>\n",
       "      <th>Title</th>\n",
       "      <th>Year</th>\n",
       "      <th>Abstract</th>\n",
       "      <th>Author Keywords</th>\n",
       "      <th>Pii</th>\n",
       "      <th>Highlights</th>\n",
       "    </tr>\n",
       "  </thead>\n",
       "  <tbody>\n",
       "    <tr>\n",
       "      <th>0</th>\n",
       "      <td>Organizational resilience and digital resource...</td>\n",
       "      <td>2023</td>\n",
       "      <td>Recent events have renewed attention to how or...</td>\n",
       "      <td>COVID-19; Digital resources; Exogenous shock; ...</td>\n",
       "      <td>https://www.sciencedirect.com/science/article/...</td>\n",
       "      <td>Organizational resilience is increasingly impo...</td>\n",
       "    </tr>\n",
       "    <tr>\n",
       "      <th>1</th>\n",
       "      <td>A new perspective of BDA and information quali...</td>\n",
       "      <td>2023</td>\n",
       "      <td>Although organizational factors related to big...</td>\n",
       "      <td>Balanced scorecard; Big data analytics; Inform...</td>\n",
       "      <td>https://www.sciencedirect.com/science/article/...</td>\n",
       "      <td>Information quality as a new theoretical lens ...</td>\n",
       "    </tr>\n",
       "    <tr>\n",
       "      <th>2</th>\n",
       "      <td>Social media platforms and social enterprise: ...</td>\n",
       "      <td>2023</td>\n",
       "      <td>A considerable number of contributions at the ...</td>\n",
       "      <td>Bibliometric analysis; Literature review; Soci...</td>\n",
       "      <td>https://www.sciencedirect.com/science/article/...</td>\n",
       "      <td>Undertakes a two-pronged bibliometric analysis...</td>\n",
       "    </tr>\n",
       "    <tr>\n",
       "      <th>3</th>\n",
       "      <td>How social media live streams affect online bu...</td>\n",
       "      <td>2023</td>\n",
       "      <td>Social media live streams (SMLSs) are becoming...</td>\n",
       "      <td>E-commerce; Live stream; Social media; Social ...</td>\n",
       "      <td>https://www.sciencedirect.com/science/article/...</td>\n",
       "      <td>People use SMLSs to satisfy their need for val...</td>\n",
       "    </tr>\n",
       "    <tr>\n",
       "      <th>4</th>\n",
       "      <td>The effects of trust on behavioral intention a...</td>\n",
       "      <td>2022</td>\n",
       "      <td>As electronic transactions between governments...</td>\n",
       "      <td>Behavioral intention; E-government; E-governme...</td>\n",
       "      <td>https://www.sciencedirect.com/science/article/...</td>\n",
       "      <td>Performance and effort expectancy impact e-gov...</td>\n",
       "    </tr>\n",
       "  </tbody>\n",
       "</table>\n",
       "</div>"
      ],
      "text/plain": [
       "                                               Title  Year  \\\n",
       "0  Organizational resilience and digital resource...  2023   \n",
       "1  A new perspective of BDA and information quali...  2023   \n",
       "2  Social media platforms and social enterprise: ...  2023   \n",
       "3  How social media live streams affect online bu...  2023   \n",
       "4  The effects of trust on behavioral intention a...  2022   \n",
       "\n",
       "                                            Abstract  \\\n",
       "0  Recent events have renewed attention to how or...   \n",
       "1  Although organizational factors related to big...   \n",
       "2  A considerable number of contributions at the ...   \n",
       "3  Social media live streams (SMLSs) are becoming...   \n",
       "4  As electronic transactions between governments...   \n",
       "\n",
       "                                     Author Keywords  \\\n",
       "0  COVID-19; Digital resources; Exogenous shock; ...   \n",
       "1  Balanced scorecard; Big data analytics; Inform...   \n",
       "2  Bibliometric analysis; Literature review; Soci...   \n",
       "3  E-commerce; Live stream; Social media; Social ...   \n",
       "4  Behavioral intention; E-government; E-governme...   \n",
       "\n",
       "                                                 Pii  \\\n",
       "0  https://www.sciencedirect.com/science/article/...   \n",
       "1  https://www.sciencedirect.com/science/article/...   \n",
       "2  https://www.sciencedirect.com/science/article/...   \n",
       "3  https://www.sciencedirect.com/science/article/...   \n",
       "4  https://www.sciencedirect.com/science/article/...   \n",
       "\n",
       "                                          Highlights  \n",
       "0  Organizational resilience is increasingly impo...  \n",
       "1  Information quality as a new theoretical lens ...  \n",
       "2  Undertakes a two-pronged bibliometric analysis...  \n",
       "3  People use SMLSs to satisfy their need for val...  \n",
       "4  Performance and effort expectancy impact e-gov...  "
      ]
     },
     "execution_count": 1,
     "metadata": {},
     "output_type": "execute_result"
    }
   ],
   "source": [
    "# 到此处为止所有数据的处理完成，可以在这个地方进行合并，形成领域数据集，然后再得到对应的keywords集合\n",
    "import pandas as pd\n",
    "\n",
    "paths = ['IJIM/IJIM_expe.xlsx', 'JOI/JOI_expe.xlsx', 'LISR/LISR_expe.xlsx','TI/TI_expe.xlsx']\n",
    "prefix_path = '../data/Elsevier-LIS'\n",
    "\n",
    "df = pd.DataFrame()\n",
    "for path in paths:\n",
    "    df = pd.concat([df, pd.read_excel(prefix_path + '/' + path)], ignore_index=True)\n",
    "    print(len(df))\n",
    "\n",
    "df = df.dropna()\n",
    "df = df.drop_duplicates()\n",
    "print(len(df))\n",
    "df.head()"
   ]
  },
  {
   "cell_type": "code",
   "execution_count": 3,
   "metadata": {},
   "outputs": [
    {
     "name": "stdout",
     "output_type": "stream",
     "text": [
      "2589\n",
      "1.0\n"
     ]
    },
    {
     "data": {
      "text/plain": [
       "2589"
      ]
     },
     "execution_count": 3,
     "metadata": {},
     "output_type": "execute_result"
    }
   ],
   "source": [
    "# JOI之前有部分文章的关键词数量在6个以上，此处再进行一次过滤\n",
    "keywords = df['Author Keywords'].tolist()\n",
    "keyword_lengths = [len(keyword.split(';')) for keyword in keywords]\n",
    "\n",
    "min = 3\n",
    "max = 6\n",
    "cnt = 0\n",
    "for length in keyword_lengths:\n",
    "    if length >= min and length <=max:\n",
    "        cnt += 1\n",
    "\n",
    "print(cnt)\n",
    "print(cnt/len(keyword_lengths))\n",
    "\n",
    "# 获取对应长度关键词集合的论文标题\n",
    "titles = df['Title'].tolist()\n",
    "sub_titles = []\n",
    "\n",
    "for i, title in enumerate(titles):\n",
    "    if keyword_lengths[i] >= min and keyword_lengths[i] <=max:\n",
    "        sub_titles.append(title)\n",
    "\n",
    "df = df[df['Title'].isin(sub_titles)]"
   ]
  },
  {
   "cell_type": "code",
   "execution_count": 5,
   "metadata": {},
   "outputs": [],
   "source": [
    "import json\n",
    "keywords = df['Author Keywords'].tolist()\n",
    "piis = df['Pii'].tolist()\n",
    "\n",
    "pii_to_words = {}\n",
    "for i, pii in enumerate(piis):\n",
    "    pii_to_words[pii] = []\n",
    "    items = keywords[i].split(';')\n",
    "    items = [item.strip() for item in items]\n",
    "    pii_to_words[pii].extend(items)\n",
    "\n",
    "with open('../data/Elsevier-LIS/Keywords.json', 'w') as f:\n",
    "    json.dump(pii_to_words, f)\n",
    "\n",
    "df.to_excel('../data/Elsevier-LIS/Texts.xlsx', index=False)"
   ]
  },
  {
   "cell_type": "markdown",
   "metadata": {},
   "source": [
    "##### 利用python框架爬取页面内容\n",
    "\n",
    "话说python 和 java爬虫比起来，会不会有哪个更容易被封的问题存在"
   ]
  },
  {
   "cell_type": "code",
   "execution_count": 1,
   "metadata": {},
   "outputs": [
    {
     "data": {
      "text/plain": [
       "['https://www.sciencedirect.com/science/article/pii/S0950705124001990',\n",
       " 'https://www.sciencedirect.com/science/article/pii/S0950705124001783',\n",
       " 'https://www.sciencedirect.com/science/article/pii/S0950705124001771',\n",
       " 'https://www.sciencedirect.com/science/article/pii/S0950705124001989',\n",
       " 'https://www.sciencedirect.com/science/article/pii/S0950705124001655']"
      ]
     },
     "execution_count": 1,
     "metadata": {},
     "output_type": "execute_result"
    }
   ],
   "source": [
    "urls = []\n",
    "\n",
    "with open('../data/Elsevier-AI/urls.txt', 'r') as f:\n",
    "    for line in f.readlines():\n",
    "        urls.append(line[:-1])\n",
    "\n",
    "urls[:5]"
   ]
  },
  {
   "cell_type": "code",
   "execution_count": 4,
   "metadata": {},
   "outputs": [],
   "source": [
    "# 自带requests反爬\n",
    "# fake_useragent: https://www.cnblogs.com/Neeo/articles/11525001.html\n",
    "from fake_useragent import UserAgent\n",
    "import requests\n",
    "from bs4 import BeautifulSoup"
   ]
  },
  {
   "cell_type": "code",
   "execution_count": 3,
   "metadata": {},
   "outputs": [
    {
     "data": {
      "text/plain": [
       "403"
      ]
     },
     "execution_count": 3,
     "metadata": {},
     "output_type": "execute_result"
    }
   ],
   "source": [
    "response = requests.get(urls[0])\n",
    "response.status_code"
   ]
  },
  {
   "cell_type": "code",
   "execution_count": null,
   "metadata": {},
   "outputs": [],
   "source": [
    "soup = BeautifulSoup(response.text, 'html.parser')\n",
    "soup"
   ]
  },
  {
   "cell_type": "code",
   "execution_count": null,
   "metadata": {},
   "outputs": [],
   "source": [
    "# scrapy框架反爬"
   ]
  },
  {
   "cell_type": "code",
   "execution_count": null,
   "metadata": {},
   "outputs": [],
   "source": [
    "# selenium框架反爬\n",
    "from selenium import webdriver\n",
    "from selenium.webdriver.common.by import By\n",
    "from selenium.webdriver.support.ui import WebDriverWait\n",
    "from selenium.webdriver.support import expected_conditions as EC\n",
    "\n",
    "driver = webdriver.Chrome()\n",
    "\n",
    "driver.get('https://www.sciencedirect.com/science/article/pii/S1751157723000317')\n",
    "\n",
    "wait = WebDriverWait(driver, 10)\n",
    "element = wait.until(EC.visibility_of_element_located((By.ID, 'some-id')))\n",
    "\n",
    "page_source = driver.page_source"
   ]
  },
  {
   "cell_type": "code",
   "execution_count": null,
   "metadata": {},
   "outputs": [],
   "source": [
    "from selenium import webdriver\n",
    "from selenium.webdriver.chrome.service import Service\n",
    "\n",
    "service = Service()\n",
    "options = webdriver.ChromeOptions()\n",
    "driver = webdriver.Chrome(service=service, options=options)\n",
    "# ... Automate something here\n",
    "driver.quit()"
   ]
  },
  {
   "cell_type": "code",
   "execution_count": null,
   "metadata": {},
   "outputs": [],
   "source": []
  }
 ],
 "metadata": {
  "kernelspec": {
   "display_name": "pytorch",
   "language": "python",
   "name": "python3"
  },
  "language_info": {
   "codemirror_mode": {
    "name": "ipython",
    "version": 3
   },
   "file_extension": ".py",
   "mimetype": "text/x-python",
   "name": "python",
   "nbconvert_exporter": "python",
   "pygments_lexer": "ipython3",
   "version": "3.11.0"
  }
 },
 "nbformat": 4,
 "nbformat_minor": 2
}
